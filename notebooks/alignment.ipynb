{
 "cells": [
  {
   "cell_type": "code",
   "execution_count": null,
   "metadata": {},
   "outputs": [],
   "source": [
    "import depthquality.quality as quality\n",
    "import depthquality.meshes as meshes\n",
    "import pkg_resources\n",
    "import os"
   ]
  },
  {
   "cell_type": "markdown",
   "metadata": {},
   "source": [
    "A sample of running the horizontal cylinder code through the pipeline, and visualizing it with Meshcat."
   ]
  },
  {
   "cell_type": "code",
   "execution_count": 2,
   "metadata": {},
   "outputs": [],
   "source": [
    "folder_name = \"vert_cylinders\"\n",
    "rgb_filename = os.path.join(\"..\", \"src\", \"tests\", \"data\", folder_name, \"1.png\")\n",
    "camera_matrix_filename = os.path.join(\"..\", \"src\", \"tests\", \"data\", folder_name, \"camera_matrix.json\")\n",
    "pointcloud_filename = os.path.join(\"..\", \"src\", \"tests\", \"data\", folder_name, \"1.ply\")\n",
    "reference_mesh = meshes.VERTICAL_CYLINDERS"
   ]
  },
  {
   "cell_type": "code",
   "execution_count": 3,
   "metadata": {
    "scrolled": false
   },
   "outputs": [],
   "source": [
    "aligned_pointcloud, camera_angle = quality.align_pointcloud_to_reference(\n",
    "    reference_mesh, rgb_filename, camera_matrix_filename, pointcloud_filename, depth_scale=0.001)\n",
    "\n",
    "# if you want to save the pointcloud to disk and load it in another visualizer\n",
    "# quality.save_pointcloud(pointcloud_filename, \"transformed\", aligned_pointcloud)\n",
    "\n",
    "cropped_pointcloud = quality.clip_pointcloud_to_pattern_area(\n",
    "    reference_mesh, aligned_pointcloud, depth_scale=0.001)\n",
    "\n",
    "# if you want to save the pointcloud to disk and load it in another visualizer\n",
    "# quality.save_pointcloud(pointcloud_filename, \"cropped\", cropped_pointcloud)\n",
    "\n",
    "rmse, density = quality.calculate_rmse_and_density(\n",
    "    ground_truth_mesh=reference_mesh,\n",
    "    cropped_pointcloud=cropped_pointcloud,\n",
    "    depth_scale=0.001,\n",
    "    camera_angle=camera_angle)"
   ]
  },
  {
   "cell_type": "code",
   "execution_count": 4,
   "metadata": {},
   "outputs": [
    {
     "name": "stdout",
     "output_type": "stream",
     "text": [
      "RMSE = 1.6844201070129325, density= 1.7608021498435062\n",
      "[ 0.00533419 -0.11536905  0.99330838]\n"
     ]
    }
   ],
   "source": [
    "print(\"RMSE = {}, density= {}\".format(rmse, density))\n",
    "print(camera_angle)"
   ]
  },
  {
   "cell_type": "markdown",
   "metadata": {},
   "source": [
    "We can use Meshcat to visualize our geometry directly in a Jupyter Notebook."
   ]
  },
  {
   "cell_type": "code",
   "execution_count": 5,
   "metadata": {},
   "outputs": [],
   "source": [
    "import meshcat\n",
    "import meshcat.geometry as g\n",
    "import meshcat.transformations as tfms\n",
    "import numpy as np"
   ]
  },
  {
   "cell_type": "code",
   "execution_count": 6,
   "metadata": {},
   "outputs": [
    {
     "name": "stdout",
     "output_type": "stream",
     "text": [
      "You can open the visualizer by visiting the following URL:\n",
      "http://127.0.0.1:7000/static/\n"
     ]
    },
    {
     "data": {
      "text/html": [
       "\n",
       "            <div style=\"height: 400px; width: 100%; overflow-x: auto; overflow-y: hidden; resize: both\">\n",
       "            <iframe src=\"http://127.0.0.1:7000/static/\" style=\"width: 100%; height: 100%; border: none\"></iframe>\n",
       "            </div>\n",
       "            "
      ],
      "text/plain": [
       "<IPython.core.display.HTML object>"
      ]
     },
     "execution_count": 6,
     "metadata": {},
     "output_type": "execute_result"
    }
   ],
   "source": [
    "vis = meshcat.Visualizer()\n",
    "vis.jupyter_cell()"
   ]
  },
  {
   "cell_type": "code",
   "execution_count": 7,
   "metadata": {},
   "outputs": [],
   "source": [
    "vis['reference'].set_object(g.ObjMeshGeometry.from_file(reference_mesh.path))\n",
    "vis['reference'].set_transform(tfms.scale_matrix(0.001))"
   ]
  },
  {
   "cell_type": "code",
   "execution_count": 8,
   "metadata": {},
   "outputs": [],
   "source": [
    "vis['transformed_cloud'].set_object(\n",
    "    g.PointCloud(np.asarray(aligned_pointcloud.points).T,\n",
    "                          np.asarray(aligned_pointcloud.colors).T)\n",
    ")\n",
    "\n",
    "vis['cropped_cloud'].set_object(\n",
    "    g.PointCloud(np.asarray(cropped_pointcloud.points).T,\n",
    "                          np.asarray(cropped_pointcloud.colors).T)\n",
    ")"
   ]
  },
  {
   "cell_type": "code",
   "execution_count": null,
   "metadata": {},
   "outputs": [],
   "source": []
  }
 ],
 "metadata": {
  "kernelspec": {
   "display_name": "Python 3",
   "language": "python",
   "name": "python3"
  },
  "language_info": {
   "codemirror_mode": {
    "name": "ipython",
    "version": 3
   },
   "file_extension": ".py",
   "mimetype": "text/x-python",
   "name": "python",
   "nbconvert_exporter": "python",
   "pygments_lexer": "ipython3",
   "version": "3.6.9"
  }
 },
 "nbformat": 4,
 "nbformat_minor": 2
}
