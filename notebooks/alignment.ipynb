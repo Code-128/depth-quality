{
 "cells": [
  {
   "cell_type": "code",
   "execution_count": 1,
   "metadata": {},
   "outputs": [
    {
     "name": "stderr",
     "output_type": "stream",
     "text": [
      "/home/mprat/Documents/repos/depth-quality/src/depthquality/transformations.py:1926: UserWarning: No module named 'depthquality._transformations'\n",
      "  warnings.warn(str(err))\n"
     ]
    }
   ],
   "source": [
    "import depthquality.quality as quality\n",
    "import depthquality.meshes as meshes"
   ]
  },
  {
   "cell_type": "code",
   "execution_count": 2,
   "metadata": {},
   "outputs": [],
   "source": [
    "rgb_filename = \"/home/mprat/Documents/repos/mprat-research/realsense/laser_d415/cylinders/1.png\"\n",
    "pc_filename = \"/home/mprat/Documents/repos/mprat-research/realsense/laser_d415/cylinders/1.dat\"\n",
    "pointcloud_filename = \"/home/mprat/Documents/repos/mprat-research/realsense/laser_d415/cylinders/1.ply\""
   ]
  },
  {
   "cell_type": "code",
   "execution_count": 6,
   "metadata": {
    "scrolled": false
   },
   "outputs": [],
   "source": [
    "aligned_pointcloud, camera_angle = quality.align_pointcloud_to_reference(\n",
    "    meshes.VERTICAL_CYLINDERS, rgb_filename, pc_filename, pointcloud_filename, depth_scale=0.001)\n",
    "\n",
    "quality.save_pointcloud(pointcloud_filename, \"transformed\", aligned_pointcloud)\n",
    "\n",
    "cropped_pointcloud = quality.clip_pointcloud_to_pattern_area(\n",
    "    meshes.VERTICAL_CYLINDERS, aligned_pointcloud, depth_scale=0.001)\n",
    "\n",
    "quality.save_pointcloud(pointcloud_filename, \"cropped\", cropped_pointcloud)\n",
    "\n",
    "rmse, density = quality.calculate_rmse_and_density(\n",
    "    ground_truth_mesh=meshes.VERTICAL_CYLINDERS,\n",
    "    cropped_pointcloud=cropped_pointcloud,\n",
    "    depth_scale=0.001,\n",
    "    camera_angle=camera_angle)"
   ]
  },
  {
   "cell_type": "code",
   "execution_count": 5,
   "metadata": {},
   "outputs": [
    {
     "name": "stdout",
     "output_type": "stream",
     "text": [
      "RMSE = 1.6688944382116044, density= 1.773541175869573\n",
      "[-0.00392532 -0.11061531 -0.99385555]\n"
     ]
    }
   ],
   "source": [
    "print(\"RMSE = {}, density= {}\".format(rmse, density))\n",
    "print(camera_angle)"
   ]
  }
 ],
 "metadata": {
  "kernelspec": {
   "display_name": "depthquality",
   "language": "python",
   "name": "depthquality"
  },
  "language_info": {
   "codemirror_mode": {
    "name": "ipython",
    "version": 3
   },
   "file_extension": ".py",
   "mimetype": "text/x-python",
   "name": "python",
   "nbconvert_exporter": "python",
   "pygments_lexer": "ipython3",
   "version": "3.5.2"
  }
 },
 "nbformat": 4,
 "nbformat_minor": 2
}
